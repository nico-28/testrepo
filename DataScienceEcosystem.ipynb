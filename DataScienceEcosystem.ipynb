{
 "cells": [
  {
   "cell_type": "markdown",
   "id": "583059a6-db27-4535-98e7-3a53df401fe4",
   "metadata": {},
   "source": [
    "# Data Science Tools and Ecosystem"
   ]
  },
  {
   "cell_type": "markdown",
   "id": "a5ff63c7-c33d-48f3-8d3d-6816bc86ee32",
   "metadata": {},
   "source": [
    "In this notebook, Data Science Tools and Ecosystem are summarized."
   ]
  },
  {
   "cell_type": "markdown",
   "id": "7b478ae5-7a31-40e1-8879-051b06fef8c3",
   "metadata": {},
   "source": [
    "_Objectives:_\n",
    "\n",
    "* List popular languages for Data Science\n",
    "* List of popular libraries for Data Science\n",
    "* Some examples of evaluating arithmetic expressions in Python"
   ]
  },
  {
   "cell_type": "markdown",
   "id": "4c283f8c-3217-41ff-8720-71ac0426581d",
   "metadata": {},
   "source": [
    "Some of the popular languages that Data Scientists use are:\n",
    "\n",
    "1. Python\n",
    "2. R\n",
    "3. SQL"
   ]
  },
  {
   "cell_type": "markdown",
   "id": "e49a35ff-d4e0-4437-a6b4-3e5568ae1e15",
   "metadata": {},
   "source": [
    "Some of the commonly used libraries used by Data Scientists include:\n",
    "\n",
    "1. Pandas\n",
    "2. NumPy\n",
    "3. Matplotlib"
   ]
  },
  {
   "cell_type": "markdown",
   "id": "6bc39d81-1420-4129-99e4-faa6d65ea4eb",
   "metadata": {},
   "source": [
    "| Data Science Tools |\n",
    "         -\n",
    "| Jupyter Notebook / JupyterLab |\n",
    "| RStudio |\n",
    "| Apache Zepelin |\n"
   ]
  },
  {
   "cell_type": "markdown",
   "id": "309fe5c1-2ad3-4586-92d0-9fa447e2d93d",
   "metadata": {},
   "source": [
    "### Below are a few examples of evaluating arithmetic expressions in Python"
   ]
  },
  {
   "cell_type": "code",
   "execution_count": 2,
   "id": "0de24728-ac7f-4fe2-b6b1-356d05ec7585",
   "metadata": {},
   "outputs": [
    {
     "data": {
      "text/plain": [
       "17"
      ]
     },
     "execution_count": 2,
     "metadata": {},
     "output_type": "execute_result"
    }
   ],
   "source": [
    "#This a simple arithmetic expression to mutiply then add integers\n",
    "(3*4)+5 "
   ]
  },
  {
   "cell_type": "code",
   "execution_count": 7,
   "id": "a0ba6e79-2011-40ad-8f9f-0d707925df7d",
   "metadata": {},
   "outputs": [
    {
     "name": "stdout",
     "output_type": "stream",
     "text": [
      "3.3333333333333335 horas\n"
     ]
    }
   ],
   "source": [
    "#This will convert 200 minutes to hours by diving by 60\n",
    "resultado = 200 / 60\n",
    "print( str(resultado) +  ' horas')"
   ]
  },
  {
   "cell_type": "code",
   "execution_count": null,
   "id": "3c00d5fe-de92-471a-8a2b-dcbea675c835",
   "metadata": {},
   "outputs": [],
   "source": []
  }
 ],
 "metadata": {
  "kernelspec": {
   "display_name": "Python 3",
   "language": "python",
   "name": "python3"
  },
  "language_info": {
   "codemirror_mode": {
    "name": "ipython",
    "version": 3
   },
   "file_extension": ".py",
   "mimetype": "text/x-python",
   "name": "python",
   "nbconvert_exporter": "python",
   "pygments_lexer": "ipython3",
   "version": "3.8.8"
  }
 },
 "nbformat": 4,
 "nbformat_minor": 5
}
